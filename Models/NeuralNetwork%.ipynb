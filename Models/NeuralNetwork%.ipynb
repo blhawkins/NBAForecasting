{
 "cells": [
  {
   "cell_type": "code",
   "execution_count": 1,
   "metadata": {},
   "outputs": [],
   "source": [
    "import pandas as pd"
   ]
  },
  {
   "cell_type": "code",
   "execution_count": 2,
   "metadata": {},
   "outputs": [],
   "source": [
    "percent_stats = pd.read_csv(\"../Data/percent_stats.csv\")"
   ]
  },
  {
   "cell_type": "code",
   "execution_count": 3,
   "metadata": {},
   "outputs": [
    {
     "data": {
      "text/html": [
       "<div>\n",
       "<style scoped>\n",
       "    .dataframe tbody tr th:only-of-type {\n",
       "        vertical-align: middle;\n",
       "    }\n",
       "\n",
       "    .dataframe tbody tr th {\n",
       "        vertical-align: top;\n",
       "    }\n",
       "\n",
       "    .dataframe thead th {\n",
       "        text-align: right;\n",
       "    }\n",
       "</style>\n",
       "<table border=\"1\" class=\"dataframe\">\n",
       "  <thead>\n",
       "    <tr style=\"text-align: right;\">\n",
       "      <th></th>\n",
       "      <th>TRB%</th>\n",
       "      <th>AST%</th>\n",
       "      <th>STL%</th>\n",
       "      <th>BLK%</th>\n",
       "      <th>TOV%</th>\n",
       "      <th>USG%</th>\n",
       "      <th>3P%</th>\n",
       "      <th>2P%</th>\n",
       "      <th>FT%</th>\n",
       "    </tr>\n",
       "  </thead>\n",
       "  <tbody>\n",
       "    <tr>\n",
       "      <th>11173</th>\n",
       "      <td>11.0</td>\n",
       "      <td>7.7</td>\n",
       "      <td>2.0</td>\n",
       "      <td>0.9</td>\n",
       "      <td>10.4</td>\n",
       "      <td>13.1</td>\n",
       "      <td>0.375</td>\n",
       "      <td>0.514</td>\n",
       "      <td>0.827</td>\n",
       "    </tr>\n",
       "    <tr>\n",
       "      <th>9174</th>\n",
       "      <td>5.7</td>\n",
       "      <td>15.1</td>\n",
       "      <td>2.9</td>\n",
       "      <td>0.3</td>\n",
       "      <td>16.6</td>\n",
       "      <td>22.0</td>\n",
       "      <td>0.154</td>\n",
       "      <td>0.373</td>\n",
       "      <td>0.724</td>\n",
       "    </tr>\n",
       "    <tr>\n",
       "      <th>3412</th>\n",
       "      <td>14.2</td>\n",
       "      <td>4.6</td>\n",
       "      <td>1.8</td>\n",
       "      <td>1.4</td>\n",
       "      <td>12.8</td>\n",
       "      <td>22.5</td>\n",
       "      <td>0.000</td>\n",
       "      <td>0.513</td>\n",
       "      <td>0.813</td>\n",
       "    </tr>\n",
       "    <tr>\n",
       "      <th>5939</th>\n",
       "      <td>2.7</td>\n",
       "      <td>22.3</td>\n",
       "      <td>0.0</td>\n",
       "      <td>0.0</td>\n",
       "      <td>63.6</td>\n",
       "      <td>23.4</td>\n",
       "      <td>0.500</td>\n",
       "      <td>0.500</td>\n",
       "      <td>0.000</td>\n",
       "    </tr>\n",
       "    <tr>\n",
       "      <th>4719</th>\n",
       "      <td>3.3</td>\n",
       "      <td>37.0</td>\n",
       "      <td>0.0</td>\n",
       "      <td>0.0</td>\n",
       "      <td>33.3</td>\n",
       "      <td>7.5</td>\n",
       "      <td>1.000</td>\n",
       "      <td>0.000</td>\n",
       "      <td>0.000</td>\n",
       "    </tr>\n",
       "  </tbody>\n",
       "</table>\n",
       "</div>"
      ],
      "text/plain": [
       "       TRB%  AST%  STL%  BLK%  TOV%  USG%    3P%    2P%    FT%\n",
       "11173  11.0   7.7   2.0   0.9  10.4  13.1  0.375  0.514  0.827\n",
       "9174    5.7  15.1   2.9   0.3  16.6  22.0  0.154  0.373  0.724\n",
       "3412   14.2   4.6   1.8   1.4  12.8  22.5  0.000  0.513  0.813\n",
       "5939    2.7  22.3   0.0   0.0  63.6  23.4  0.500  0.500  0.000\n",
       "4719    3.3  37.0   0.0   0.0  33.3   7.5  1.000  0.000  0.000"
      ]
     },
     "execution_count": 3,
     "metadata": {},
     "output_type": "execute_result"
    }
   ],
   "source": [
    "# Define the selected features for the percentage model\n",
    "percent_selected_features = ['TRB%', 'AST%', 'STL%', 'BLK%', 'TOV%', 'USG%', '3P%', '2P%', 'FT%']\n",
    "\n",
    "#Define X and y sets\n",
    "X = percent_stats[percent_selected_features]\n",
    "y = percent_stats[\"Pos\"]\n",
    "\n",
    "# Split data into training and testing\n",
    "from sklearn.model_selection import train_test_split\n",
    "X_train, X_test, y_train, y_test = train_test_split(X, y, random_state=0)\n",
    "\n",
    "#Print the X_train dataframe\n",
    "X_train.head()"
   ]
  },
  {
   "cell_type": "code",
   "execution_count": 4,
   "metadata": {},
   "outputs": [],
   "source": [
    "from sklearn.preprocessing import StandardScaler\n",
    "\n",
    "# Create a StandardScaler model and fit it to the training data\n",
    "X_scaler = StandardScaler().fit(X_train)"
   ]
  },
  {
   "cell_type": "code",
   "execution_count": 5,
   "metadata": {},
   "outputs": [],
   "source": [
    "X_train_scaled = X_scaler.transform(X_train)\n",
    "X_test_scaled = X_scaler.transform(X_test)"
   ]
  },
  {
   "cell_type": "code",
   "execution_count": 6,
   "metadata": {},
   "outputs": [
    {
     "data": {
      "text/plain": [
       "(12475, 9)"
      ]
     },
     "execution_count": 6,
     "metadata": {},
     "output_type": "execute_result"
    }
   ],
   "source": [
    "X_train_scaled.shape"
   ]
  },
  {
   "cell_type": "code",
   "execution_count": 7,
   "metadata": {},
   "outputs": [],
   "source": [
    "from sklearn.preprocessing import LabelEncoder\n",
    "from tensorflow.keras.utils import to_categorical\n",
    "\n",
    "label_encoder = LabelEncoder()\n",
    "label_encoder.fit(y_train)\n",
    "encoded_y_train = label_encoder.transform(y_train)\n",
    "encoded_y_test = label_encoder.transform(y_test)\n",
    "\n",
    "# One-hot encoding\n",
    "y_train_categorical = to_categorical(encoded_y_train)\n",
    "y_test_categorical = to_categorical(encoded_y_test)"
   ]
  },
  {
   "cell_type": "code",
   "execution_count": 8,
   "metadata": {},
   "outputs": [],
   "source": [
    "from tensorflow.keras.models import Sequential\n",
    "\n",
    "model = Sequential()"
   ]
  },
  {
   "cell_type": "code",
   "execution_count": 9,
   "metadata": {},
   "outputs": [],
   "source": [
    "from tensorflow.keras.layers import Dense\n",
    "model.add(Dense(units=100, activation='relu', input_dim=9))\n",
    "model.add(Dense(units=100, activation='relu'))\n",
    "model.add(Dense(units=100, activation='relu'))\n",
    "model.add(Dense(units=5, activation='softmax'))"
   ]
  },
  {
   "cell_type": "code",
   "execution_count": 10,
   "metadata": {},
   "outputs": [
    {
     "name": "stdout",
     "output_type": "stream",
     "text": [
      "Model: \"sequential\"\n",
      "_________________________________________________________________\n",
      "Layer (type)                 Output Shape              Param #   \n",
      "=================================================================\n",
      "dense (Dense)                (None, 100)               1000      \n",
      "_________________________________________________________________\n",
      "dense_1 (Dense)              (None, 100)               10100     \n",
      "_________________________________________________________________\n",
      "dense_2 (Dense)              (None, 100)               10100     \n",
      "_________________________________________________________________\n",
      "dense_3 (Dense)              (None, 5)                 505       \n",
      "=================================================================\n",
      "Total params: 21,705\n",
      "Trainable params: 21,705\n",
      "Non-trainable params: 0\n",
      "_________________________________________________________________\n"
     ]
    }
   ],
   "source": [
    "model.summary()"
   ]
  },
  {
   "cell_type": "code",
   "execution_count": 11,
   "metadata": {},
   "outputs": [],
   "source": [
    "model.compile(optimizer='adam',\n",
    "              loss='categorical_crossentropy',\n",
    "              metrics=['accuracy'])"
   ]
  },
  {
   "cell_type": "code",
   "execution_count": 12,
   "metadata": {},
   "outputs": [
    {
     "name": "stdout",
     "output_type": "stream",
     "text": [
      "Epoch 1/100\n",
      "390/390 - 1s - loss: 0.9400 - accuracy: 0.5953\n",
      "Epoch 2/100\n",
      "390/390 - 1s - loss: 0.8537 - accuracy: 0.6261\n",
      "Epoch 3/100\n",
      "390/390 - 1s - loss: 0.8327 - accuracy: 0.6342\n",
      "Epoch 4/100\n",
      "390/390 - 1s - loss: 0.8192 - accuracy: 0.6373\n",
      "Epoch 5/100\n",
      "390/390 - 1s - loss: 0.8127 - accuracy: 0.6413\n",
      "Epoch 6/100\n",
      "390/390 - 1s - loss: 0.8054 - accuracy: 0.6446\n",
      "Epoch 7/100\n",
      "390/390 - 1s - loss: 0.7976 - accuracy: 0.6479\n",
      "Epoch 8/100\n",
      "390/390 - 1s - loss: 0.7918 - accuracy: 0.6489\n",
      "Epoch 9/100\n",
      "390/390 - 1s - loss: 0.7866 - accuracy: 0.6523\n",
      "Epoch 10/100\n",
      "390/390 - 1s - loss: 0.7804 - accuracy: 0.6591\n",
      "Epoch 11/100\n",
      "390/390 - 1s - loss: 0.7780 - accuracy: 0.6552\n",
      "Epoch 12/100\n",
      "390/390 - 1s - loss: 0.7718 - accuracy: 0.6603\n",
      "Epoch 13/100\n",
      "390/390 - 1s - loss: 0.7679 - accuracy: 0.6633\n",
      "Epoch 14/100\n",
      "390/390 - 1s - loss: 0.7621 - accuracy: 0.6637\n",
      "Epoch 15/100\n",
      "390/390 - 1s - loss: 0.7560 - accuracy: 0.6699\n",
      "Epoch 16/100\n",
      "390/390 - 1s - loss: 0.7517 - accuracy: 0.6680\n",
      "Epoch 17/100\n",
      "390/390 - 1s - loss: 0.7463 - accuracy: 0.6776\n",
      "Epoch 18/100\n",
      "390/390 - 1s - loss: 0.7382 - accuracy: 0.6776\n",
      "Epoch 19/100\n",
      "390/390 - 1s - loss: 0.7357 - accuracy: 0.6770\n",
      "Epoch 20/100\n",
      "390/390 - 1s - loss: 0.7278 - accuracy: 0.6771\n",
      "Epoch 21/100\n",
      "390/390 - 1s - loss: 0.7214 - accuracy: 0.6825\n",
      "Epoch 22/100\n",
      "390/390 - 1s - loss: 0.7156 - accuracy: 0.6860\n",
      "Epoch 23/100\n",
      "390/390 - 1s - loss: 0.7072 - accuracy: 0.6903\n",
      "Epoch 24/100\n",
      "390/390 - 1s - loss: 0.7051 - accuracy: 0.6904\n",
      "Epoch 25/100\n",
      "390/390 - 1s - loss: 0.6967 - accuracy: 0.6953\n",
      "Epoch 26/100\n",
      "390/390 - 1s - loss: 0.6884 - accuracy: 0.7022\n",
      "Epoch 27/100\n",
      "390/390 - 1s - loss: 0.6888 - accuracy: 0.6990\n",
      "Epoch 28/100\n",
      "390/390 - 1s - loss: 0.6787 - accuracy: 0.7054\n",
      "Epoch 29/100\n",
      "390/390 - 1s - loss: 0.6727 - accuracy: 0.7082\n",
      "Epoch 30/100\n",
      "390/390 - 1s - loss: 0.6657 - accuracy: 0.7166\n",
      "Epoch 31/100\n",
      "390/390 - 1s - loss: 0.6589 - accuracy: 0.7120\n",
      "Epoch 32/100\n",
      "390/390 - 1s - loss: 0.6543 - accuracy: 0.7135\n",
      "Epoch 33/100\n",
      "390/390 - 1s - loss: 0.6478 - accuracy: 0.7196\n",
      "Epoch 34/100\n",
      "390/390 - 1s - loss: 0.6384 - accuracy: 0.7234\n",
      "Epoch 35/100\n",
      "390/390 - 1s - loss: 0.6316 - accuracy: 0.7257\n",
      "Epoch 36/100\n",
      "390/390 - 1s - loss: 0.6261 - accuracy: 0.7265\n",
      "Epoch 37/100\n",
      "390/390 - 1s - loss: 0.6223 - accuracy: 0.7322\n",
      "Epoch 38/100\n",
      "390/390 - 1s - loss: 0.6173 - accuracy: 0.7316\n",
      "Epoch 39/100\n",
      "390/390 - 1s - loss: 0.6058 - accuracy: 0.7378\n",
      "Epoch 40/100\n",
      "390/390 - 1s - loss: 0.6013 - accuracy: 0.7400\n",
      "Epoch 41/100\n",
      "390/390 - 1s - loss: 0.5927 - accuracy: 0.7453\n",
      "Epoch 42/100\n",
      "390/390 - 1s - loss: 0.5889 - accuracy: 0.7478\n",
      "Epoch 43/100\n",
      "390/390 - 1s - loss: 0.5823 - accuracy: 0.7466\n",
      "Epoch 44/100\n",
      "390/390 - 1s - loss: 0.5800 - accuracy: 0.7495\n",
      "Epoch 45/100\n",
      "390/390 - 1s - loss: 0.5711 - accuracy: 0.7548\n",
      "Epoch 46/100\n",
      "390/390 - 1s - loss: 0.5641 - accuracy: 0.7559\n",
      "Epoch 47/100\n",
      "390/390 - 1s - loss: 0.5545 - accuracy: 0.7612\n",
      "Epoch 48/100\n",
      "390/390 - 1s - loss: 0.5516 - accuracy: 0.7631\n",
      "Epoch 49/100\n",
      "390/390 - 1s - loss: 0.5481 - accuracy: 0.7659\n",
      "Epoch 50/100\n",
      "390/390 - 1s - loss: 0.5394 - accuracy: 0.7681\n",
      "Epoch 51/100\n",
      "390/390 - 1s - loss: 0.5298 - accuracy: 0.7733\n",
      "Epoch 52/100\n",
      "390/390 - 1s - loss: 0.5234 - accuracy: 0.7769\n",
      "Epoch 53/100\n",
      "390/390 - 1s - loss: 0.5225 - accuracy: 0.7777\n",
      "Epoch 54/100\n",
      "390/390 - 1s - loss: 0.5131 - accuracy: 0.7795\n",
      "Epoch 55/100\n",
      "390/390 - 1s - loss: 0.5165 - accuracy: 0.7856\n",
      "Epoch 56/100\n",
      "390/390 - 1s - loss: 0.5057 - accuracy: 0.7867\n",
      "Epoch 57/100\n",
      "390/390 - 1s - loss: 0.4992 - accuracy: 0.7873\n",
      "Epoch 58/100\n",
      "390/390 - 1s - loss: 0.4915 - accuracy: 0.7925\n",
      "Epoch 59/100\n",
      "390/390 - 1s - loss: 0.4847 - accuracy: 0.7901\n",
      "Epoch 60/100\n",
      "390/390 - 1s - loss: 0.4807 - accuracy: 0.7954\n",
      "Epoch 61/100\n",
      "390/390 - 1s - loss: 0.4754 - accuracy: 0.7999\n",
      "Epoch 62/100\n",
      "390/390 - 1s - loss: 0.4682 - accuracy: 0.7982\n",
      "Epoch 63/100\n",
      "390/390 - 1s - loss: 0.4680 - accuracy: 0.8037\n",
      "Epoch 64/100\n",
      "390/390 - 1s - loss: 0.4613 - accuracy: 0.8059\n",
      "Epoch 65/100\n",
      "390/390 - 1s - loss: 0.4606 - accuracy: 0.8049\n",
      "Epoch 66/100\n",
      "390/390 - 1s - loss: 0.4467 - accuracy: 0.8111\n",
      "Epoch 67/100\n",
      "390/390 - 1s - loss: 0.4436 - accuracy: 0.8146\n",
      "Epoch 68/100\n",
      "390/390 - 1s - loss: 0.4393 - accuracy: 0.8143\n",
      "Epoch 69/100\n",
      "390/390 - 1s - loss: 0.4359 - accuracy: 0.8210\n",
      "Epoch 70/100\n",
      "390/390 - 1s - loss: 0.4452 - accuracy: 0.8137\n",
      "Epoch 71/100\n",
      "390/390 - 1s - loss: 0.4212 - accuracy: 0.8208\n",
      "Epoch 72/100\n",
      "390/390 - 1s - loss: 0.4138 - accuracy: 0.8279\n",
      "Epoch 73/100\n",
      "390/390 - 1s - loss: 0.4157 - accuracy: 0.8278\n",
      "Epoch 74/100\n",
      "390/390 - 1s - loss: 0.4103 - accuracy: 0.8306\n",
      "Epoch 75/100\n",
      "390/390 - 1s - loss: 0.4076 - accuracy: 0.8325\n",
      "Epoch 76/100\n",
      "390/390 - 1s - loss: 0.4140 - accuracy: 0.8269\n",
      "Epoch 77/100\n",
      "390/390 - 1s - loss: 0.3973 - accuracy: 0.8352\n",
      "Epoch 78/100\n",
      "390/390 - 1s - loss: 0.3947 - accuracy: 0.8366\n",
      "Epoch 79/100\n",
      "390/390 - 1s - loss: 0.3885 - accuracy: 0.8403\n",
      "Epoch 80/100\n",
      "390/390 - 1s - loss: 0.3822 - accuracy: 0.8436\n",
      "Epoch 81/100\n",
      "390/390 - 1s - loss: 0.3830 - accuracy: 0.8387\n",
      "Epoch 82/100\n",
      "390/390 - 1s - loss: 0.3715 - accuracy: 0.8484\n",
      "Epoch 83/100\n",
      "390/390 - 1s - loss: 0.3730 - accuracy: 0.8438\n",
      "Epoch 84/100\n",
      "390/390 - 1s - loss: 0.3722 - accuracy: 0.8484\n",
      "Epoch 85/100\n",
      "390/390 - 1s - loss: 0.3712 - accuracy: 0.8472\n",
      "Epoch 86/100\n",
      "390/390 - 1s - loss: 0.3607 - accuracy: 0.8519\n",
      "Epoch 87/100\n",
      "390/390 - 1s - loss: 0.3573 - accuracy: 0.8545\n",
      "Epoch 88/100\n",
      "390/390 - 1s - loss: 0.3509 - accuracy: 0.8580\n",
      "Epoch 89/100\n",
      "390/390 - 1s - loss: 0.3483 - accuracy: 0.8595\n",
      "Epoch 90/100\n",
      "390/390 - 1s - loss: 0.3527 - accuracy: 0.8550\n",
      "Epoch 91/100\n",
      "390/390 - 1s - loss: 0.3335 - accuracy: 0.8629\n",
      "Epoch 92/100\n",
      "390/390 - 1s - loss: 0.3423 - accuracy: 0.8592\n",
      "Epoch 93/100\n",
      "390/390 - 1s - loss: 0.3284 - accuracy: 0.8645\n",
      "Epoch 94/100\n",
      "390/390 - 1s - loss: 0.3394 - accuracy: 0.8628\n",
      "Epoch 95/100\n",
      "390/390 - 1s - loss: 0.3278 - accuracy: 0.8696\n",
      "Epoch 96/100\n",
      "390/390 - 1s - loss: 0.3211 - accuracy: 0.8694\n",
      "Epoch 97/100\n",
      "390/390 - 1s - loss: 0.3193 - accuracy: 0.8729\n",
      "Epoch 98/100\n",
      "390/390 - 1s - loss: 0.3268 - accuracy: 0.8727\n",
      "Epoch 99/100\n",
      "390/390 - 1s - loss: 0.3184 - accuracy: 0.8722\n",
      "Epoch 100/100\n",
      "390/390 - 1s - loss: 0.3356 - accuracy: 0.8661\n"
     ]
    },
    {
     "data": {
      "text/plain": [
       "<tensorflow.python.keras.callbacks.History at 0x7fd730c7a950>"
      ]
     },
     "execution_count": 12,
     "metadata": {},
     "output_type": "execute_result"
    }
   ],
   "source": [
    "model.fit(\n",
    "    X_train_scaled,\n",
    "    y_train_categorical,\n",
    "    epochs=100,\n",
    "    shuffle=True,\n",
    "    verbose=2\n",
    ")"
   ]
  },
  {
   "cell_type": "code",
   "execution_count": 13,
   "metadata": {},
   "outputs": [
    {
     "name": "stdout",
     "output_type": "stream",
     "text": [
      "130/130 - 1s - loss: 2.1331 - accuracy: 0.5597\n",
      "Normal Neural Network - Loss: 2.1331021785736084, Accuracy: 0.559749960899353\n"
     ]
    }
   ],
   "source": [
    "model_loss, model_accuracy = model.evaluate(\n",
    "    X_test_scaled, y_test_categorical, verbose=2)\n",
    "print(\n",
    "    f\"Normal Neural Network - Loss: {model_loss}, Accuracy: {model_accuracy}\")"
   ]
  },
  {
   "cell_type": "code",
   "execution_count": 14,
   "metadata": {},
   "outputs": [
    {
     "name": "stderr",
     "output_type": "stream",
     "text": [
      "/Users/Drew/opt/anaconda3/lib/python3.7/site-packages/tensorflow/python/keras/engine/sequential.py:450: UserWarning: `model.predict_classes()` is deprecated and will be removed after 2021-01-01. Please use instead:* `np.argmax(model.predict(x), axis=-1)`,   if your model does multi-class classification   (e.g. if it uses a `softmax` last-layer activation).* `(model.predict(x) > 0.5).astype(\"int32\")`,   if your model does binary classification   (e.g. if it uses a `sigmoid` last-layer activation).\n",
      "  warnings.warn('`model.predict_classes()` is deprecated and '\n"
     ]
    }
   ],
   "source": [
    "encoded_predictions = model.predict_classes(X_test_scaled[:10])\n",
    "prediction_labels = label_encoder.inverse_transform(encoded_predictions)"
   ]
  },
  {
   "cell_type": "code",
   "execution_count": 15,
   "metadata": {},
   "outputs": [
    {
     "name": "stdout",
     "output_type": "stream",
     "text": [
      "Predicted classes: ['SF' 'PG' 'PF' 'C' 'PG' 'SF' 'SF' 'PG' 'SG' 'PF']\n",
      "Actual Labels: ['PF', 'PG', 'PF', 'C', 'PG', 'SF', 'PF', 'PG', 'SF', 'C']\n"
     ]
    }
   ],
   "source": [
    "print(f\"Predicted classes: {prediction_labels}\")\n",
    "print(f\"Actual Labels: {list(y_test[:10])}\")"
   ]
  },
  {
   "cell_type": "code",
   "execution_count": null,
   "metadata": {},
   "outputs": [],
   "source": []
  }
 ],
 "metadata": {
  "kernelspec": {
   "display_name": "Python 3",
   "language": "python",
   "name": "python3"
  },
  "language_info": {
   "codemirror_mode": {
    "name": "ipython",
    "version": 3
   },
   "file_extension": ".py",
   "mimetype": "text/x-python",
   "name": "python",
   "nbconvert_exporter": "python",
   "pygments_lexer": "ipython3",
   "version": "3.7.6"
  }
 },
 "nbformat": 4,
 "nbformat_minor": 4
}