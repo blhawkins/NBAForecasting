{
 "cells": [
  {
   "cell_type": "code",
   "execution_count": 1,
   "metadata": {},
   "outputs": [],
   "source": [
    "#Import Dependencies\n",
    "import numpy as np\n",
    "import pandas as pd"
   ]
  },
  {
   "cell_type": "code",
   "execution_count": 2,
   "metadata": {},
   "outputs": [
    {
     "data": {
      "text/html": [
       "<div>\n",
       "<style scoped>\n",
       "    .dataframe tbody tr th:only-of-type {\n",
       "        vertical-align: middle;\n",
       "    }\n",
       "\n",
       "    .dataframe tbody tr th {\n",
       "        vertical-align: top;\n",
       "    }\n",
       "\n",
       "    .dataframe thead th {\n",
       "        text-align: right;\n",
       "    }\n",
       "</style>\n",
       "<table border=\"1\" class=\"dataframe\">\n",
       "  <thead>\n",
       "    <tr style=\"text-align: right;\">\n",
       "      <th></th>\n",
       "      <th>Unnamed: 0</th>\n",
       "      <th>Year</th>\n",
       "      <th>Pos</th>\n",
       "      <th>TRB%</th>\n",
       "      <th>AST%</th>\n",
       "      <th>STL%</th>\n",
       "      <th>BLK%</th>\n",
       "      <th>TOV%</th>\n",
       "      <th>USG%</th>\n",
       "      <th>3P%</th>\n",
       "      <th>2P%</th>\n",
       "      <th>FT%</th>\n",
       "    </tr>\n",
       "  </thead>\n",
       "  <tbody>\n",
       "    <tr>\n",
       "      <th>0</th>\n",
       "      <td>0</td>\n",
       "      <td>1982.0</td>\n",
       "      <td>C</td>\n",
       "      <td>13.4</td>\n",
       "      <td>11.9</td>\n",
       "      <td>1.1</td>\n",
       "      <td>4.1</td>\n",
       "      <td>13.3</td>\n",
       "      <td>25.6</td>\n",
       "      <td>0.000</td>\n",
       "      <td>0.580</td>\n",
       "      <td>0.706</td>\n",
       "    </tr>\n",
       "    <tr>\n",
       "      <th>1</th>\n",
       "      <td>1</td>\n",
       "      <td>1982.0</td>\n",
       "      <td>C</td>\n",
       "      <td>13.6</td>\n",
       "      <td>22.1</td>\n",
       "      <td>2.3</td>\n",
       "      <td>1.9</td>\n",
       "      <td>14.8</td>\n",
       "      <td>22.8</td>\n",
       "      <td>0.000</td>\n",
       "      <td>0.494</td>\n",
       "      <td>0.781</td>\n",
       "    </tr>\n",
       "    <tr>\n",
       "      <th>2</th>\n",
       "      <td>2</td>\n",
       "      <td>1982.0</td>\n",
       "      <td>SF</td>\n",
       "      <td>9.7</td>\n",
       "      <td>18.6</td>\n",
       "      <td>1.2</td>\n",
       "      <td>0.9</td>\n",
       "      <td>12.7</td>\n",
       "      <td>29.8</td>\n",
       "      <td>0.352</td>\n",
       "      <td>0.475</td>\n",
       "      <td>0.680</td>\n",
       "    </tr>\n",
       "    <tr>\n",
       "      <th>3</th>\n",
       "      <td>3</td>\n",
       "      <td>1982.0</td>\n",
       "      <td>SG</td>\n",
       "      <td>5.5</td>\n",
       "      <td>19.7</td>\n",
       "      <td>3.1</td>\n",
       "      <td>0.3</td>\n",
       "      <td>17.5</td>\n",
       "      <td>21.5</td>\n",
       "      <td>0.294</td>\n",
       "      <td>0.363</td>\n",
       "      <td>0.862</td>\n",
       "    </tr>\n",
       "    <tr>\n",
       "      <th>4</th>\n",
       "      <td>4</td>\n",
       "      <td>1982.0</td>\n",
       "      <td>PG</td>\n",
       "      <td>2.9</td>\n",
       "      <td>31.9</td>\n",
       "      <td>1.1</td>\n",
       "      <td>0.1</td>\n",
       "      <td>18.4</td>\n",
       "      <td>17.9</td>\n",
       "      <td>0.375</td>\n",
       "      <td>0.475</td>\n",
       "      <td>0.747</td>\n",
       "    </tr>\n",
       "  </tbody>\n",
       "</table>\n",
       "</div>"
      ],
      "text/plain": [
       "   Unnamed: 0    Year Pos  TRB%  AST%  STL%  BLK%  TOV%  USG%    3P%    2P%  \\\n",
       "0           0  1982.0   C  13.4  11.9   1.1   4.1  13.3  25.6  0.000  0.580   \n",
       "1           1  1982.0   C  13.6  22.1   2.3   1.9  14.8  22.8  0.000  0.494   \n",
       "2           2  1982.0  SF   9.7  18.6   1.2   0.9  12.7  29.8  0.352  0.475   \n",
       "3           3  1982.0  SG   5.5  19.7   3.1   0.3  17.5  21.5  0.294  0.363   \n",
       "4           4  1982.0  PG   2.9  31.9   1.1   0.1  18.4  17.9  0.375  0.475   \n",
       "\n",
       "     FT%  \n",
       "0  0.706  \n",
       "1  0.781  \n",
       "2  0.680  \n",
       "3  0.862  \n",
       "4  0.747  "
      ]
     },
     "execution_count": 2,
     "metadata": {},
     "output_type": "execute_result"
    }
   ],
   "source": [
    "#Read the percent_stats csv file into a pandas DataFrame\n",
    "percent_stats_df = pd.read_csv('percent_stats.csv')\n",
    "percent_stats_df.head()"
   ]
  },
  {
   "cell_type": "code",
   "execution_count": 41,
   "metadata": {},
   "outputs": [
    {
     "data": {
      "text/html": [
       "<div>\n",
       "<style scoped>\n",
       "    .dataframe tbody tr th:only-of-type {\n",
       "        vertical-align: middle;\n",
       "    }\n",
       "\n",
       "    .dataframe tbody tr th {\n",
       "        vertical-align: top;\n",
       "    }\n",
       "\n",
       "    .dataframe thead th {\n",
       "        text-align: right;\n",
       "    }\n",
       "</style>\n",
       "<table border=\"1\" class=\"dataframe\">\n",
       "  <thead>\n",
       "    <tr style=\"text-align: right;\">\n",
       "      <th></th>\n",
       "      <th>Unnamed: 0</th>\n",
       "      <th>Year</th>\n",
       "      <th>Pos</th>\n",
       "      <th>G</th>\n",
       "      <th>MP</th>\n",
       "      <th>FG</th>\n",
       "      <th>FGA</th>\n",
       "      <th>3P</th>\n",
       "      <th>3PA</th>\n",
       "      <th>2P</th>\n",
       "      <th>2PA</th>\n",
       "      <th>FT</th>\n",
       "      <th>FTA</th>\n",
       "      <th>TRB</th>\n",
       "      <th>AST</th>\n",
       "      <th>STL</th>\n",
       "      <th>BLK</th>\n",
       "      <th>TOV</th>\n",
       "      <th>PF</th>\n",
       "      <th>PTS</th>\n",
       "    </tr>\n",
       "  </thead>\n",
       "  <tbody>\n",
       "    <tr>\n",
       "      <th>0</th>\n",
       "      <td>0</td>\n",
       "      <td>1982.0</td>\n",
       "      <td>C</td>\n",
       "      <td>76.0</td>\n",
       "      <td>2677.0</td>\n",
       "      <td>753.0</td>\n",
       "      <td>1301.0</td>\n",
       "      <td>0.0</td>\n",
       "      <td>3.0</td>\n",
       "      <td>753.0</td>\n",
       "      <td>1298.0</td>\n",
       "      <td>312.0</td>\n",
       "      <td>442.0</td>\n",
       "      <td>659.0</td>\n",
       "      <td>225.0</td>\n",
       "      <td>63.0</td>\n",
       "      <td>207.0</td>\n",
       "      <td>230.0</td>\n",
       "      <td>224.0</td>\n",
       "      <td>1818.0</td>\n",
       "    </tr>\n",
       "    <tr>\n",
       "      <th>1</th>\n",
       "      <td>1</td>\n",
       "      <td>1982.0</td>\n",
       "      <td>C</td>\n",
       "      <td>79.0</td>\n",
       "      <td>2393.0</td>\n",
       "      <td>507.0</td>\n",
       "      <td>1027.0</td>\n",
       "      <td>0.0</td>\n",
       "      <td>1.0</td>\n",
       "      <td>507.0</td>\n",
       "      <td>1026.0</td>\n",
       "      <td>182.0</td>\n",
       "      <td>233.0</td>\n",
       "      <td>586.0</td>\n",
       "      <td>356.0</td>\n",
       "      <td>114.0</td>\n",
       "      <td>78.0</td>\n",
       "      <td>196.0</td>\n",
       "      <td>269.0</td>\n",
       "      <td>1196.0</td>\n",
       "    </tr>\n",
       "    <tr>\n",
       "      <th>2</th>\n",
       "      <td>2</td>\n",
       "      <td>1982.0</td>\n",
       "      <td>SF</td>\n",
       "      <td>51.0</td>\n",
       "      <td>1468.0</td>\n",
       "      <td>381.0</td>\n",
       "      <td>820.0</td>\n",
       "      <td>25.0</td>\n",
       "      <td>71.0</td>\n",
       "      <td>356.0</td>\n",
       "      <td>749.0</td>\n",
       "      <td>168.0</td>\n",
       "      <td>247.0</td>\n",
       "      <td>249.0</td>\n",
       "      <td>164.0</td>\n",
       "      <td>37.0</td>\n",
       "      <td>22.0</td>\n",
       "      <td>135.0</td>\n",
       "      <td>152.0</td>\n",
       "      <td>955.0</td>\n",
       "    </tr>\n",
       "    <tr>\n",
       "      <th>3</th>\n",
       "      <td>3</td>\n",
       "      <td>1982.0</td>\n",
       "      <td>SG</td>\n",
       "      <td>53.0</td>\n",
       "      <td>564.0</td>\n",
       "      <td>79.0</td>\n",
       "      <td>221.0</td>\n",
       "      <td>5.0</td>\n",
       "      <td>17.0</td>\n",
       "      <td>74.0</td>\n",
       "      <td>204.0</td>\n",
       "      <td>56.0</td>\n",
       "      <td>65.0</td>\n",
       "      <td>56.0</td>\n",
       "      <td>87.0</td>\n",
       "      <td>37.0</td>\n",
       "      <td>3.0</td>\n",
       "      <td>53.0</td>\n",
       "      <td>86.0</td>\n",
       "      <td>219.0</td>\n",
       "    </tr>\n",
       "    <tr>\n",
       "      <th>4</th>\n",
       "      <td>4</td>\n",
       "      <td>1982.0</td>\n",
       "      <td>PG</td>\n",
       "      <td>68.0</td>\n",
       "      <td>2167.0</td>\n",
       "      <td>308.0</td>\n",
       "      <td>652.0</td>\n",
       "      <td>6.0</td>\n",
       "      <td>16.0</td>\n",
       "      <td>302.0</td>\n",
       "      <td>636.0</td>\n",
       "      <td>236.0</td>\n",
       "      <td>316.0</td>\n",
       "      <td>116.0</td>\n",
       "      <td>541.0</td>\n",
       "      <td>52.0</td>\n",
       "      <td>3.0</td>\n",
       "      <td>178.0</td>\n",
       "      <td>131.0</td>\n",
       "      <td>858.0</td>\n",
       "    </tr>\n",
       "  </tbody>\n",
       "</table>\n",
       "</div>"
      ],
      "text/plain": [
       "   Unnamed: 0    Year Pos     G      MP     FG     FGA    3P   3PA     2P  \\\n",
       "0           0  1982.0   C  76.0  2677.0  753.0  1301.0   0.0   3.0  753.0   \n",
       "1           1  1982.0   C  79.0  2393.0  507.0  1027.0   0.0   1.0  507.0   \n",
       "2           2  1982.0  SF  51.0  1468.0  381.0   820.0  25.0  71.0  356.0   \n",
       "3           3  1982.0  SG  53.0   564.0   79.0   221.0   5.0  17.0   74.0   \n",
       "4           4  1982.0  PG  68.0  2167.0  308.0   652.0   6.0  16.0  302.0   \n",
       "\n",
       "      2PA     FT    FTA    TRB    AST    STL    BLK    TOV     PF     PTS  \n",
       "0  1298.0  312.0  442.0  659.0  225.0   63.0  207.0  230.0  224.0  1818.0  \n",
       "1  1026.0  182.0  233.0  586.0  356.0  114.0   78.0  196.0  269.0  1196.0  \n",
       "2   749.0  168.0  247.0  249.0  164.0   37.0   22.0  135.0  152.0   955.0  \n",
       "3   204.0   56.0   65.0   56.0   87.0   37.0    3.0   53.0   86.0   219.0  \n",
       "4   636.0  236.0  316.0  116.0  541.0   52.0    3.0  178.0  131.0   858.0  "
      ]
     },
     "execution_count": 41,
     "metadata": {},
     "output_type": "execute_result"
    }
   ],
   "source": [
    "#Read the raw_stats csv file into a pandas DataFrame\n",
    "raw_stats_df = pd.read_csv('raw_stats.csv')\n",
    "raw_stats_df.head()"
   ]
  },
  {
   "cell_type": "code",
   "execution_count": 4,
   "metadata": {},
   "outputs": [
    {
     "data": {
      "text/plain": [
       "array([[1., 0., 0., 0., 0.],\n",
       "       [1., 0., 0., 0., 0.],\n",
       "       [0., 0., 0., 1., 0.],\n",
       "       ...,\n",
       "       [1., 0., 0., 0., 0.],\n",
       "       [0., 0., 0., 1., 0.],\n",
       "       [1., 0., 0., 0., 0.]], dtype=float32)"
      ]
     },
     "execution_count": 4,
     "metadata": {},
     "output_type": "execute_result"
    }
   ],
   "source": [
    "#Convert the string value for the \"Pos\" columns into a usable data type\n",
    "# Step 0: Reformat data\n",
    "data = percent_stats_df.values\n",
    "y = data[:, 2]\n",
    "\n",
    "from sklearn.preprocessing import LabelEncoder\n",
    "# Step 1: Label-encode data set\n",
    "label_encoder = LabelEncoder()\n",
    "label_encoder.fit(y)\n",
    "encoded_y = label_encoder.transform(y)\n",
    "    \n",
    "from keras.utils import to_categorical\n",
    "# Step 2: One-hot encoding\n",
    "one_hot_y = to_categorical(encoded_y)\n",
    "one_hot_y"
   ]
  },
  {
   "cell_type": "code",
   "execution_count": 60,
   "metadata": {},
   "outputs": [
    {
     "data": {
      "text/html": [
       "<div>\n",
       "<style scoped>\n",
       "    .dataframe tbody tr th:only-of-type {\n",
       "        vertical-align: middle;\n",
       "    }\n",
       "\n",
       "    .dataframe tbody tr th {\n",
       "        vertical-align: top;\n",
       "    }\n",
       "\n",
       "    .dataframe thead th {\n",
       "        text-align: right;\n",
       "    }\n",
       "</style>\n",
       "<table border=\"1\" class=\"dataframe\">\n",
       "  <thead>\n",
       "    <tr style=\"text-align: right;\">\n",
       "      <th></th>\n",
       "      <th>TRB%</th>\n",
       "      <th>AST%</th>\n",
       "      <th>BLK%</th>\n",
       "      <th>TOV%</th>\n",
       "      <th>3P%</th>\n",
       "      <th>USG%</th>\n",
       "    </tr>\n",
       "  </thead>\n",
       "  <tbody>\n",
       "    <tr>\n",
       "      <th>11173</th>\n",
       "      <td>11.0</td>\n",
       "      <td>7.7</td>\n",
       "      <td>0.9</td>\n",
       "      <td>10.4</td>\n",
       "      <td>0.375</td>\n",
       "      <td>13.1</td>\n",
       "    </tr>\n",
       "    <tr>\n",
       "      <th>9174</th>\n",
       "      <td>5.7</td>\n",
       "      <td>15.1</td>\n",
       "      <td>0.3</td>\n",
       "      <td>16.6</td>\n",
       "      <td>0.154</td>\n",
       "      <td>22.0</td>\n",
       "    </tr>\n",
       "    <tr>\n",
       "      <th>3412</th>\n",
       "      <td>14.2</td>\n",
       "      <td>4.6</td>\n",
       "      <td>1.4</td>\n",
       "      <td>12.8</td>\n",
       "      <td>0.000</td>\n",
       "      <td>22.5</td>\n",
       "    </tr>\n",
       "    <tr>\n",
       "      <th>5939</th>\n",
       "      <td>2.7</td>\n",
       "      <td>22.3</td>\n",
       "      <td>0.0</td>\n",
       "      <td>63.6</td>\n",
       "      <td>0.500</td>\n",
       "      <td>23.4</td>\n",
       "    </tr>\n",
       "    <tr>\n",
       "      <th>4719</th>\n",
       "      <td>3.3</td>\n",
       "      <td>37.0</td>\n",
       "      <td>0.0</td>\n",
       "      <td>33.3</td>\n",
       "      <td>1.000</td>\n",
       "      <td>7.5</td>\n",
       "    </tr>\n",
       "  </tbody>\n",
       "</table>\n",
       "</div>"
      ],
      "text/plain": [
       "       TRB%  AST%  BLK%  TOV%    3P%  USG%\n",
       "11173  11.0   7.7   0.9  10.4  0.375  13.1\n",
       "9174    5.7  15.1   0.3  16.6  0.154  22.0\n",
       "3412   14.2   4.6   1.4  12.8  0.000  22.5\n",
       "5939    2.7  22.3   0.0  63.6  0.500  23.4\n",
       "4719    3.3  37.0   0.0  33.3  1.000   7.5"
      ]
     },
     "execution_count": 60,
     "metadata": {},
     "output_type": "execute_result"
    }
   ],
   "source": [
    "#Define the selected features for the percentage model\n",
    "percent_selected_features = ['TRB%','AST%','BLK%','TOV%','3P%','USG%']\n",
    "\n",
    "#Define X and y sets\n",
    "X = percent_stats_df[percent_selected_features]\n",
    "y = one_hot_y\n",
    "\n",
    "#Split data into training and testing\n",
    "from sklearn.model_selection import train_test_split\n",
    "X_train, X_test, y_train, y_test = train_test_split(X, data[:, 2], random_state=0)\n",
    "\n",
    "#Print the X_train dataframe\n",
    "X_train.head()"
   ]
  },
  {
   "cell_type": "code",
   "execution_count": 61,
   "metadata": {},
   "outputs": [],
   "source": [
    "#Import the StandardScaler for scaling the dataset\n",
    "from sklearn.preprocessing import StandardScaler\n",
    "\n",
    "#Generate the scaling function for the features\n",
    "X_scaler = StandardScaler().fit(X_train)\n",
    "\n",
    "#Apply the scaling function to the features\n",
    "X_train_scaled = X_scaler.transform(X_train)\n",
    "X_test_scaled = X_scaler.transform(X_test)"
   ]
  },
  {
   "cell_type": "code",
   "execution_count": 62,
   "metadata": {},
   "outputs": [
    {
     "data": {
      "text/plain": [
       "SVC(kernel='linear')"
      ]
     },
     "execution_count": 62,
     "metadata": {},
     "output_type": "execute_result"
    }
   ],
   "source": [
    "# Create the SVC Model\n",
    "from sklearn.svm import SVC \n",
    "model = SVC(kernel='linear')\n",
    "model"
   ]
  },
  {
   "cell_type": "code",
   "execution_count": 63,
   "metadata": {},
   "outputs": [],
   "source": [
    "# Create the GridSearch estimator along with a parameter object containing the values to adjust\n",
    "from sklearn.model_selection import GridSearchCV\n",
    "param_grid = {'C': [1, 5, 10],\n",
    "              'gamma': [0.0001, 0.001, 0.01]}\n",
    "grid = GridSearchCV(model, param_grid, verbose=3)"
   ]
  },
  {
   "cell_type": "code",
   "execution_count": 64,
   "metadata": {},
   "outputs": [
    {
     "name": "stdout",
     "output_type": "stream",
     "text": [
      "Fitting 5 folds for each of 9 candidates, totalling 45 fits\n",
      "[CV] C=1, gamma=0.0001 ...............................................\n"
     ]
    },
    {
     "name": "stderr",
     "output_type": "stream",
     "text": [
      "[Parallel(n_jobs=1)]: Using backend SequentialBackend with 1 concurrent workers.\n"
     ]
    },
    {
     "name": "stdout",
     "output_type": "stream",
     "text": [
      "[CV] ................... C=1, gamma=0.0001, score=0.604, total=   6.7s\n",
      "[CV] C=1, gamma=0.0001 ...............................................\n"
     ]
    },
    {
     "name": "stderr",
     "output_type": "stream",
     "text": [
      "[Parallel(n_jobs=1)]: Done   1 out of   1 | elapsed:    6.7s remaining:    0.0s\n"
     ]
    },
    {
     "name": "stdout",
     "output_type": "stream",
     "text": [
      "[CV] ................... C=1, gamma=0.0001, score=0.616, total=   5.5s\n",
      "[CV] C=1, gamma=0.0001 ...............................................\n"
     ]
    },
    {
     "name": "stderr",
     "output_type": "stream",
     "text": [
      "[Parallel(n_jobs=1)]: Done   2 out of   2 | elapsed:   12.2s remaining:    0.0s\n"
     ]
    },
    {
     "name": "stdout",
     "output_type": "stream",
     "text": [
      "[CV] ................... C=1, gamma=0.0001, score=0.627, total=   5.5s\n",
      "[CV] C=1, gamma=0.0001 ...............................................\n",
      "[CV] ................... C=1, gamma=0.0001, score=0.616, total=   4.9s\n",
      "[CV] C=1, gamma=0.0001 ...............................................\n",
      "[CV] ................... C=1, gamma=0.0001, score=0.626, total=   4.8s\n",
      "[CV] C=1, gamma=0.001 ................................................\n",
      "[CV] .................... C=1, gamma=0.001, score=0.604, total=   4.9s\n",
      "[CV] C=1, gamma=0.001 ................................................\n",
      "[CV] .................... C=1, gamma=0.001, score=0.616, total=   6.3s\n",
      "[CV] C=1, gamma=0.001 ................................................\n",
      "[CV] .................... C=1, gamma=0.001, score=0.627, total=   5.8s\n",
      "[CV] C=1, gamma=0.001 ................................................\n",
      "[CV] .................... C=1, gamma=0.001, score=0.616, total=   4.8s\n",
      "[CV] C=1, gamma=0.001 ................................................\n",
      "[CV] .................... C=1, gamma=0.001, score=0.626, total=   4.5s\n",
      "[CV] C=1, gamma=0.01 .................................................\n",
      "[CV] ..................... C=1, gamma=0.01, score=0.604, total=   5.0s\n",
      "[CV] C=1, gamma=0.01 .................................................\n",
      "[CV] ..................... C=1, gamma=0.01, score=0.616, total=   5.1s\n",
      "[CV] C=1, gamma=0.01 .................................................\n",
      "[CV] ..................... C=1, gamma=0.01, score=0.627, total=   4.5s\n",
      "[CV] C=1, gamma=0.01 .................................................\n",
      "[CV] ..................... C=1, gamma=0.01, score=0.616, total=   4.5s\n",
      "[CV] C=1, gamma=0.01 .................................................\n",
      "[CV] ..................... C=1, gamma=0.01, score=0.626, total=   4.7s\n",
      "[CV] C=5, gamma=0.0001 ...............................................\n",
      "[CV] ................... C=5, gamma=0.0001, score=0.604, total=  11.5s\n",
      "[CV] C=5, gamma=0.0001 ...............................................\n",
      "[CV] ................... C=5, gamma=0.0001, score=0.616, total=   9.4s\n",
      "[CV] C=5, gamma=0.0001 ...............................................\n",
      "[CV] ................... C=5, gamma=0.0001, score=0.627, total=   9.6s\n",
      "[CV] C=5, gamma=0.0001 ...............................................\n",
      "[CV] ................... C=5, gamma=0.0001, score=0.616, total=   9.6s\n",
      "[CV] C=5, gamma=0.0001 ...............................................\n",
      "[CV] ................... C=5, gamma=0.0001, score=0.627, total=   9.6s\n",
      "[CV] C=5, gamma=0.001 ................................................\n",
      "[CV] .................... C=5, gamma=0.001, score=0.604, total=  10.6s\n",
      "[CV] C=5, gamma=0.001 ................................................\n",
      "[CV] .................... C=5, gamma=0.001, score=0.616, total=  10.5s\n",
      "[CV] C=5, gamma=0.001 ................................................\n",
      "[CV] .................... C=5, gamma=0.001, score=0.627, total=   9.6s\n",
      "[CV] C=5, gamma=0.001 ................................................\n",
      "[CV] .................... C=5, gamma=0.001, score=0.616, total=  10.3s\n",
      "[CV] C=5, gamma=0.001 ................................................\n",
      "[CV] .................... C=5, gamma=0.001, score=0.627, total=   9.8s\n",
      "[CV] C=5, gamma=0.01 .................................................\n",
      "[CV] ..................... C=5, gamma=0.01, score=0.604, total=   9.2s\n",
      "[CV] C=5, gamma=0.01 .................................................\n",
      "[CV] ..................... C=5, gamma=0.01, score=0.616, total=   8.9s\n",
      "[CV] C=5, gamma=0.01 .................................................\n",
      "[CV] ..................... C=5, gamma=0.01, score=0.627, total=   9.4s\n",
      "[CV] C=5, gamma=0.01 .................................................\n",
      "[CV] ..................... C=5, gamma=0.01, score=0.616, total=  10.5s\n",
      "[CV] C=5, gamma=0.01 .................................................\n",
      "[CV] ..................... C=5, gamma=0.01, score=0.627, total=   9.6s\n",
      "[CV] C=10, gamma=0.0001 ..............................................\n",
      "[CV] .................. C=10, gamma=0.0001, score=0.604, total=  13.9s\n",
      "[CV] C=10, gamma=0.0001 ..............................................\n",
      "[CV] .................. C=10, gamma=0.0001, score=0.616, total=  14.9s\n",
      "[CV] C=10, gamma=0.0001 ..............................................\n",
      "[CV] .................. C=10, gamma=0.0001, score=0.627, total=  14.7s\n",
      "[CV] C=10, gamma=0.0001 ..............................................\n",
      "[CV] .................. C=10, gamma=0.0001, score=0.616, total=  13.9s\n",
      "[CV] C=10, gamma=0.0001 ..............................................\n",
      "[CV] .................. C=10, gamma=0.0001, score=0.627, total=  14.6s\n",
      "[CV] C=10, gamma=0.001 ...............................................\n",
      "[CV] ................... C=10, gamma=0.001, score=0.604, total=  15.5s\n",
      "[CV] C=10, gamma=0.001 ...............................................\n",
      "[CV] ................... C=10, gamma=0.001, score=0.616, total=  14.3s\n",
      "[CV] C=10, gamma=0.001 ...............................................\n",
      "[CV] ................... C=10, gamma=0.001, score=0.627, total=  13.6s\n",
      "[CV] C=10, gamma=0.001 ...............................................\n",
      "[CV] ................... C=10, gamma=0.001, score=0.616, total=  13.6s\n",
      "[CV] C=10, gamma=0.001 ...............................................\n",
      "[CV] ................... C=10, gamma=0.001, score=0.627, total=  13.7s\n",
      "[CV] C=10, gamma=0.01 ................................................\n",
      "[CV] .................... C=10, gamma=0.01, score=0.604, total=  13.7s\n",
      "[CV] C=10, gamma=0.01 ................................................\n",
      "[CV] .................... C=10, gamma=0.01, score=0.616, total=  15.4s\n",
      "[CV] C=10, gamma=0.01 ................................................\n",
      "[CV] .................... C=10, gamma=0.01, score=0.627, total=  14.1s\n",
      "[CV] C=10, gamma=0.01 ................................................\n",
      "[CV] .................... C=10, gamma=0.01, score=0.616, total=  15.5s\n",
      "[CV] C=10, gamma=0.01 ................................................\n",
      "[CV] .................... C=10, gamma=0.01, score=0.627, total=  19.4s\n"
     ]
    },
    {
     "name": "stderr",
     "output_type": "stream",
     "text": [
      "[Parallel(n_jobs=1)]: Done  45 out of  45 | elapsed:  7.4min finished\n"
     ]
    },
    {
     "data": {
      "text/plain": [
       "GridSearchCV(estimator=SVC(kernel='linear'),\n",
       "             param_grid={'C': [1, 5, 10], 'gamma': [0.0001, 0.001, 0.01]},\n",
       "             verbose=3)"
      ]
     },
     "execution_count": 64,
     "metadata": {},
     "output_type": "execute_result"
    }
   ],
   "source": [
    "# Fit the model using the grid search estimator. \n",
    "# This will take the SVC model and try each combination of parameters\n",
    "grid.fit(X_train_scaled, y_train)"
   ]
  },
  {
   "cell_type": "code",
   "execution_count": 65,
   "metadata": {},
   "outputs": [
    {
     "name": "stdout",
     "output_type": "stream",
     "text": [
      "{'C': 5, 'gamma': 0.0001}\n"
     ]
    }
   ],
   "source": [
    "# List the best parameters for this dataset\n",
    "print(grid.best_params_)"
   ]
  },
  {
   "cell_type": "code",
   "execution_count": 66,
   "metadata": {},
   "outputs": [
    {
     "name": "stdout",
     "output_type": "stream",
     "text": [
      "0.6179559118236473\n"
     ]
    }
   ],
   "source": [
    "# List the best score\n",
    "print(grid.best_score_)"
   ]
  },
  {
   "cell_type": "code",
   "execution_count": 67,
   "metadata": {},
   "outputs": [],
   "source": [
    "# Make predictions with the hypertuned model\n",
    "predictions = grid.predict(X_test_scaled)"
   ]
  },
  {
   "cell_type": "code",
   "execution_count": 68,
   "metadata": {},
   "outputs": [
    {
     "name": "stdout",
     "output_type": "stream",
     "text": [
      "              precision    recall  f1-score   support\n",
      "\n",
      "           C       0.66      0.62      0.64       840\n",
      "          PF       0.53      0.54      0.54       900\n",
      "          SF       0.83      0.82      0.82       849\n",
      "          SG       0.53      0.50      0.51       775\n",
      "          PG       0.57      0.64      0.60       795\n",
      "\n",
      "    accuracy                           0.62      4159\n",
      "   macro avg       0.62      0.62      0.62      4159\n",
      "weighted avg       0.63      0.62      0.62      4159\n",
      "\n"
     ]
    }
   ],
   "source": [
    "# Calculate classification report\n",
    "from sklearn.metrics import classification_report\n",
    "print(classification_report(y_test, predictions,\n",
    "                            target_names=[\"C\", \"PF\", \"SF\", \"SG\", \"PG\"]))"
   ]
  },
  {
   "cell_type": "code",
   "execution_count": null,
   "metadata": {},
   "outputs": [],
   "source": []
  }
 ],
 "metadata": {
  "kernelspec": {
   "display_name": "Python 3",
   "language": "python",
   "name": "python3"
  },
  "language_info": {
   "codemirror_mode": {
    "name": "ipython",
    "version": 3
   },
   "file_extension": ".py",
   "mimetype": "text/x-python",
   "name": "python",
   "nbconvert_exporter": "python",
   "pygments_lexer": "ipython3",
   "version": "3.7.6"
  }
 },
 "nbformat": 4,
 "nbformat_minor": 4
}
